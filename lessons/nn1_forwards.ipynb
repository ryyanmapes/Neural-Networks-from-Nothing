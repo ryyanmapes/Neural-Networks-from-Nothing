{
 "cells": [
  {
   "cell_type": "markdown",
   "metadata": {},
   "source": [
    "## Some stuff we need to import first\n",
    "\n",
    "Note: This document roughly follows the process of implementing a neural network from scratch described in [this paper](https://epubs.siam.org/doi/epdf/10.1137/18M1165748), up until Backpropagation"
   ]
  },
  {
   "cell_type": "code",
   "execution_count": 1,
   "metadata": {},
   "outputs": [],
   "source": [
    "import math\n",
    "import numpy.linalg as linalg\n",
    "import numpy as np\n",
    "import scipy.optimize\n",
    "import matplotlib.pyplot as plt\n",
    "import random"
   ]
  },
  {
   "cell_type": "markdown",
   "metadata": {},
   "source": [
    "## Basic Idea\n",
    "\n",
    "In order to use out-of-the-box optimization methods, we need to represent every changable parameter in one vector. For now, we implement the simple three layer network described in the paper, involving 23 parameters. "
   ]
  },
  {
   "cell_type": "code",
   "execution_count": 2,
   "metadata": {},
   "outputs": [],
   "source": [
    "def sigmoid(x):\n",
    "    return 1 / (1 + np.exp(-x))\n",
    "\n",
    "# Helper function for turning parts of our vector into our weight matricies.\n",
    "def make_matrix(cols, rows, data):\n",
    "    acc = []\n",
    "\n",
    "    i = 0\n",
    "    for row in range(0, rows):\n",
    "        acc_row = []\n",
    "        for col in range(0, cols):\n",
    "            acc_row.append(data[i])\n",
    "            i += 1\n",
    "        acc.append(acc_row)\n",
    "    \n",
    "    return np.matrix(acc)\n",
    "\n",
    "# The function that applies our parameter vector (which we want to maximize) to an input x\n",
    "def F(params, x):\n",
    "    i = 0\n",
    "    W2 = make_matrix(2, 2, params[i:i+4])\n",
    "    i += 4\n",
    "    W3 = make_matrix(2, 3, params[i:i+6])\n",
    "    i += 6\n",
    "    W4 = make_matrix(3, 2, params[i:i+6])\n",
    "    i += 6\n",
    "    b2 = (params[i:i+2])[:, np.newaxis]\n",
    "    i += 2\n",
    "    b3 = (params[i:i+3])[:, np.newaxis]\n",
    "    i += 3\n",
    "    b4 = (params[i:i+2])[:, np.newaxis]\n",
    "\n",
    "    ret = sigmoid(W4 * sigmoid(W3 * sigmoid(W2 * x + b2) + b3) + b4)\n",
    "    return ret\n",
    "\n",
    "# data: pairs (x, y, True|False)\n",
    "# Computes the cost for some given data and parameters (difference between actual and expected)\n",
    "def CostForData(data, params):\n",
    "    \n",
    "    total = 0\n",
    "    residuals = []\n",
    "    for pair in data:\n",
    "        dataInput = np.array(pair[0:2])\n",
    "        dataInput = dataInput[:, np.newaxis]\n",
    "        dataExpected = pair[2]\n",
    "        dataExpectedVector = [[1], [0]] if dataExpected else [[0], [1]]\n",
    "        \n",
    "        result = F(params, dataInput)\n",
    "\n",
    "        total += 0.5 * linalg.norm(dataExpectedVector - result) ** 2\n",
    "        residuals.append(linalg.norm(dataExpectedVector - result))\n",
    "\n",
    "    average = total / len(data)\n",
    "    return residuals\n"
   ]
  },
  {
   "cell_type": "markdown",
   "metadata": {},
   "source": [
    "Next, we load some data points and plot them. We want our system to create regions that section off the two colors of points."
   ]
  },
  {
   "cell_type": "code",
   "execution_count": 3,
   "metadata": {},
   "outputs": [
    {
     "data": {
      "text/plain": [
       "<matplotlib.collections.PathCollection at 0x26f89d82610>"
      ]
     },
     "execution_count": 3,
     "metadata": {},
     "output_type": "execute_result"
    },
    {
     "data": {
      "image/png": "[encoded data removed]",
      "text/plain": [
       "<Figure size 640x480 with 1 Axes>"
      ]
     },
     "metadata": {},
     "output_type": "display_data"
    }
   ],
   "source": [
    "data = [\n",
    "    (0.1, 0.1, True), \n",
    "    (0.1, 0.5, True), \n",
    "    (0.3, 0.3, True), \n",
    "    (0.15, 0.2, True), \n",
    "    (0.8, 0.9, True), \n",
    "    (0.4, 0.4, False), \n",
    "    (0.5, 0.65, False), \n",
    "    (0.5, 0.8, False),\n",
    "    (0.4, 0.7, False),\n",
    "    (0.9, 0.1, False)\n",
    "]\n",
    "\n",
    "def Cost(params):\n",
    "    return CostForData(data, params)\n",
    "\n",
    "yesData = list(filter(lambda p: p[2], data))\n",
    "noData = list(filter(lambda p: not p[2], data))\n",
    "\n",
    "plt.scatter(list(map(lambda p: p[0], yesData)), list(map(lambda p: p[1], yesData)), c='g')\n",
    "plt.scatter(list(map(lambda p: p[0], noData)), list(map(lambda p: p[1], noData)), c='r')"
   ]
  },
  {
   "cell_type": "markdown",
   "metadata": {},
   "source": [
    "Because we haven't implemented backpropogation, we'll just run the scipy no-knowledge least squares optimization method"
   ]
  },
  {
   "cell_type": "code",
   "execution_count": 4,
   "metadata": {},
   "outputs": [
    {
     "name": "stdout",
     "output_type": "stream",
     "text": [
      "[-0.06751700136046157, 0.3890045161608945, 0.303545366234687, -0.07587433434012536, -0.1317133149010593, -0.07132508428848694, -0.1337342998914206, 0.007997211045373431, 0.07474134458553794, -0.37826170842586315, -0.12442479029645026, 0.23169498296548519, 0.32697074961369577, 0.3936207972665854, 0.41887110074695966, 0.0034108917317541287, 0.11126525990682268, -0.18206121738974956, 0.24577138817625988, 0.06629480254279396, 0.04769061116362361, -0.16032393353588648, -0.44297342304049014]\n",
      "     message: `gtol` termination condition is satisfied.\n",
      "     success: True\n",
      "      status: 1\n",
      "         fun: [ 4.502e-05  4.736e-05  7.340e-05  4.488e-05  1.180e-04\n",
      "                8.377e-05  5.891e-05  7.352e-05  5.753e-05  6.164e-05]\n",
      "           x: [-8.129e+00 -5.264e+00 ...  6.405e+00 -6.751e+00]\n",
      "        cost: 2.4303142067441337e-08\n",
      "         jac: [[-1.234e-10 -1.236e-10 ... -1.658e-05  2.844e-05]\n",
      "               [-5.982e-09 -3.081e-08 ... -1.729e-05  3.007e-05]\n",
      "               ...\n",
      "               [-4.883e-07 -8.549e-07 ...  3.584e-05 -2.169e-05]\n",
      "               [-1.085e-05 -1.205e-06 ...  3.839e-05 -2.324e-05]]\n",
      "        grad: [ 4.884e-10  2.485e-10 ...  4.352e-09  6.952e-09]\n",
      "  optimality: 9.946936809662126e-09\n",
      " active_mask: [ 0.000e+00  0.000e+00 ...  0.000e+00  0.000e+00]\n",
      "        nfev: 455\n",
      "        njev: 447\n"
     ]
    }
   ],
   "source": [
    "# Initialize all parameters at random\n",
    "initial = []\n",
    "for i in range(0, 23):\n",
    "    initial.append((0.5 - random.random())*1)\n",
    "print(initial)\n",
    "\n",
    "# Compute the optimal using the scipy least squares\n",
    "optimal = scipy.optimize.least_squares(Cost, np.array(initial, dtype=float))\n",
    "print(optimal)"
   ]
  },
  {
   "cell_type": "markdown",
   "metadata": {},
   "source": [
    "Then, just graph the fit!"
   ]
  },
  {
   "cell_type": "code",
   "execution_count": 5,
   "metadata": {},
   "outputs": [
    {
     "data": {
      "text/plain": [
       "<matplotlib.collections.PathCollection at 0x26f8a7d7790>"
      ]
     },
     "execution_count": 5,
     "metadata": {},
     "output_type": "execute_result"
    },
    {
     "data": {
      "image/png": "[encoded data removed]",
      "text/plain": [
       "<Figure size 640x480 with 1 Axes>"
      ]
     },
     "metadata": {},
     "output_type": "display_data"
    }
   ],
   "source": [
    "optimal_x = optimal.x\n",
    "\n",
    "domain = []\n",
    "for (i, x) in enumerate(np.linspace(0, 1, 100)):\n",
    "    for (j, y) in enumerate(np.linspace(0, 1, 100)):\n",
    "        domain.append([[x], [y]])\n",
    "\n",
    "yesDomain = []\n",
    "noDomain = []\n",
    "for d in domain:\n",
    "    result = F(optimal_x, d)\n",
    "    if result[0] < 0.5:\n",
    "        noDomain.append(d)\n",
    "    else:\n",
    "        yesDomain.append(d)\n",
    "\n",
    "plt.scatter(list(map(lambda p: p[0], yesDomain)), list(map(lambda p: p[1], yesDomain)), c='g')\n",
    "plt.scatter(list(map(lambda p: p[0], noDomain)), list(map(lambda p: p[1], noDomain)), c='r')"
   ]
  },
  {
   "cell_type": "markdown",
   "metadata": {},
   "source": [
    "## Next up: using Backpropogation instead of least squares!"
   ]
  }
 ],
 "metadata": {
  "kernelspec": {
   "display_name": "Python 3",
   "language": "python",
   "name": "python3"
  },
  "language_info": {
   "codemirror_mode": {
    "name": "ipython",
    "version": 3
   },
   "file_extension": ".py",
   "mimetype": "text/x-python",
   "name": "python",
   "nbconvert_exporter": "python",
   "pygments_lexer": "ipython3",
   "version": "3.11.7"
  }
 },
 "nbformat": 4,
 "nbformat_minor": 2
}
