{
 "cells": [
  {
   "cell_type": "code",
   "execution_count": 1,
   "metadata": {},
   "outputs": [],
   "source": [
    "# Setup\n",
    "\n",
    "import math\n",
    "import numpy.linalg as linalg\n",
    "import numpy as np\n",
    "import matplotlib.pyplot as plt\n",
    "import random\n",
    "from typing import List\n",
    "from sklearn.datasets import fetch_openml\n",
    "\n",
    "import libraries.autodiff as autodiff"
   ]
  },
  {
   "cell_type": "code",
   "execution_count": 2,
   "metadata": {},
   "outputs": [],
   "source": [
    "# Load MNIST dataset\n",
    "\n",
    "mnist = fetch_openml(name='mnist_784', version=1)\n",
    "\n",
    "images, labels = mnist.data, mnist.target\n",
    "\n",
    "IMAGE_DIM: int = 28\n",
    "DIGITS = 10\n",
    "\n",
    "WRONG_ANSWER_VAL = 0\n",
    "RIGHT_ANSWER_VAL = 1\n",
    "\n",
    "def get_output_for_digit(digit: int) -> np.ndarray:\n",
    "    arr = [WRONG_ANSWER_VAL for i in range(0, DIGITS)]\n",
    "    arr[digit] = RIGHT_ANSWER_VAL\n",
    "    return np.array(arr)\n",
    "\n",
    "def get_correct_digit(index: int) -> int:\n",
    "    return int(labels[index])\n",
    "\n",
    "def get_output_for_index(index: int) -> np.ndarray:\n",
    "    return get_output_for_digit(get_correct_digit(index))\n",
    "\n",
    "TOTAL_TRAINING_CASES = 70000\n",
    "MAX_VAL = 256\n",
    "\n",
    "datas = []\n",
    "for i in range(0, TOTAL_TRAINING_CASES):\n",
    "    datas.append((np.array([v / MAX_VAL for v in images.iloc[i].values]).reshape((IMAGE_DIM, IMAGE_DIM)), get_output_for_digit(get_correct_digit(i))))"
   ]
  },
  {
   "cell_type": "code",
   "execution_count": 3,
   "metadata": {},
   "outputs": [],
   "source": [
    "TRAINING_CASES = 50000\n",
    "VALIDATION_CASES = 10000\n",
    "TRAINING_ITERATIONS = 30\n",
    "BATCH_SIZE = 10\n",
    "\n",
    "training_cases = datas[:TRAINING_CASES]\n",
    "validation_cases = datas[-VALIDATION_CASES:]\n",
    "\n",
    "def run_training(network: autodiff.NeuralNetwork, batch_size=BATCH_SIZE, verbose=True):\n",
    "    correct_portion = []\n",
    "    for j in range(0, TRAINING_ITERATIONS):\n",
    "        random.shuffle(training_cases)\n",
    "        for i in range(0, len(training_cases), batch_size):\n",
    "            batch_in = [d[0].flatten() for d in training_cases[i:i+batch_size]]\n",
    "            batch_out = [d[1] for d in training_cases[i:i+batch_size]]\n",
    "            network.train_batch(batch_in, batch_out)\n",
    "        if verbose:\n",
    "            print(np.linalg.norm(network.get_parameters()))\n",
    "\n",
    "        total_correct = 0\n",
    "        for i in range(0, len(validation_cases)):\n",
    "            image = validation_cases[i][0]\n",
    "\n",
    "            result_raw = network.forwards(image)\n",
    "            result = np.argmax(result_raw)\n",
    "            \n",
    "            if result == np.argmax(validation_cases[i][1]):\n",
    "                total_correct += 1\n",
    "\n",
    "        correct_portion.append(total_correct / len(validation_cases))\n",
    "        if verbose:\n",
    "            print(str(total_correct / len(validation_cases) * 100) + '% correct')\n",
    "\n",
    "    return correct_portion"
   ]
  },
  {
   "cell_type": "markdown",
   "metadata": {},
   "source": [
    "### Linear Model"
   ]
  },
  {
   "cell_type": "code",
   "execution_count": 4,
   "metadata": {},
   "outputs": [
    {
     "name": "stdout",
     "output_type": "stream",
     "text": [
      "(10, 1) x 1\n",
      "56.87089180938573\n",
      "88.67% correct\n",
      "84.58965973298994\n",
      "90.73% correct\n",
      "106.54730215348161\n",
      "90.69% correct\n",
      "125.33573016069029\n",
      "90.36999999999999% correct\n",
      "142.03810362135283\n",
      "88.14% correct\n",
      "157.75450553237536\n",
      "89.09% correct\n",
      "171.95217720284828\n",
      "90.25999999999999% correct\n",
      "186.7402317957074\n",
      "89.97% correct\n",
      "199.80137262642253\n",
      "88.91% correct\n",
      "212.87204371878\n",
      "90.95% correct\n",
      "225.50411583113305\n",
      "90.27% correct\n",
      "237.80639012807768\n",
      "90.33% correct\n",
      "249.65403085700132\n",
      "91.56% correct\n",
      "260.8074105066402\n",
      "90.86% correct\n",
      "272.1873574676212\n",
      "90.10000000000001% correct\n",
      "283.45543944036433\n",
      "90.98% correct\n",
      "294.68096734835916\n",
      "90.51% correct\n",
      "305.2289506006401\n",
      "91.24% correct\n",
      "316.10594853606625\n",
      "90.73% correct\n",
      "326.9165656677711\n",
      "91.16% correct\n",
      "337.59873940690113\n",
      "91.19% correct\n",
      "348.1386796468421\n",
      "90.62% correct\n",
      "358.3268796927994\n",
      "90.25% correct\n",
      "369.0032206676791\n",
      "90.99000000000001% correct\n",
      "378.6793445713372\n",
      "90.16999999999999% correct\n",
      "388.53406152858463\n",
      "90.9% correct\n",
      "398.46430353537903\n",
      "91.36% correct\n"
     ]
    },
    {
     "name": "stderr",
     "output_type": "stream",
     "text": [
      "c:\\Users\\ryan_\\OneDrive\\Documents\\Python\\Neural-Networks-from-Nothing\\advanced_autodiff\\experiments\\libraries\\autodiff.py:456: RuntimeWarning: divide by zero encountered in divide\n",
      "  self.sources[1].grad += -self.grad * self.sources[0].result / (self.sources[1].result ** 2)\n",
      "c:\\Users\\ryan_\\OneDrive\\Documents\\Python\\Neural-Networks-from-Nothing\\advanced_autodiff\\experiments\\libraries\\autodiff.py:456: RuntimeWarning: invalid value encountered in divide\n",
      "  self.sources[1].grad += -self.grad * self.sources[0].result / (self.sources[1].result ** 2)\n"
     ]
    },
    {
     "name": "stdout",
     "output_type": "stream",
     "text": [
      "nan\n",
      "9.8% correct\n",
      "nan\n",
      "9.8% correct\n",
      "nan\n",
      "9.8% correct\n"
     ]
    }
   ],
   "source": [
    "LOSS_TYPE = autodiff.LossType.CROSS_ENTROPY\n",
    "OPTIMIZER = autodiff.AdamOptimizer(0.01, 0.9, 0.99)\n",
    "WEIGHT_DECAY_RATE = 0\n",
    "WEIGHT_DECAY_EXP = 2\n",
    "LAYERS = [autodiff.SimpleLayer(DIGITS, activation_type=autodiff.ActivationFunction.NONE, weight_init_type=autodiff.InitializationType.TINY, bias_init_type=autodiff.InitializationType.ZEROES)]\n",
    "network: autodiff.NeuralNetwork = autodiff.NeuralNetwork((IMAGE_DIM*IMAGE_DIM,1), LAYERS, LOSS_TYPE, OPTIMIZER, WEIGHT_DECAY_RATE, WEIGHT_DECAY_EXP)\n",
    "\n",
    "#network.check(np.array([d[0].reshape((IMAGE_DIM*IMAGE_DIM, 1)) for d in training_cases[0:1]]), True)\n",
    "\n",
    "affine_correct_portion = run_training(network)"
   ]
  },
  {
   "cell_type": "code",
   "execution_count": 5,
   "metadata": {},
   "outputs": [
    {
     "name": "stdout",
     "output_type": "stream",
     "text": [
      "7850\n"
     ]
    }
   ],
   "source": [
    "import pickle\n",
    "\n",
    "with open(\"affine_results.pickle\", \"wb\") as file:\n",
    "    pickle.dump(affine_correct_portion, file)\n",
    "\n",
    "with open(\"affine.pickle\", \"wb\") as file:\n",
    "    pickle.dump(network, file)\n",
    "\n",
    "print(network.total_parameters)"
   ]
  },
  {
   "cell_type": "code",
   "execution_count": 6,
   "metadata": {},
   "outputs": [
    {
     "name": "stdout",
     "output_type": "stream",
     "text": [
      "(16, 1) x 1\n",
      "(16, 1) x 1\n",
      "(10, 1) x 1\n",
      "140.8955036110305\n",
      "89.33% correct\n",
      "160.29474144265293\n",
      "90.88000000000001% correct\n",
      "176.33033071716832\n",
      "91.59% correct\n",
      "190.75400833701858\n",
      "91.22% correct\n",
      "202.59488469124747\n",
      "92.29% correct\n",
      "214.60817353968596\n",
      "92.24% correct\n",
      "226.27646347044964\n",
      "92.47% correct\n",
      "237.70497897350216\n",
      "92.53% correct\n",
      "248.34504559353365\n",
      "92.80000000000001% correct\n",
      "258.40730376115886\n",
      "92.43% correct\n",
      "268.5256694816224\n",
      "92.57% correct\n",
      "277.30900760514083\n",
      "92.47999999999999% correct\n",
      "285.9874748182314\n",
      "93.13% correct\n",
      "294.56126911076024\n",
      "92.39% correct\n",
      "302.6321318574867\n",
      "92.54% correct\n",
      "311.31270481640337\n",
      "92.25% correct\n",
      "319.60401877822363\n",
      "92.89% correct\n",
      "328.0381170884881\n",
      "92.53% correct\n",
      "336.76243256387664\n",
      "92.49000000000001% correct\n",
      "344.2135636218757\n",
      "92.92% correct\n",
      "351.11213995000315\n",
      "93.07% correct\n",
      "358.85446378428566\n",
      "93.34% correct\n",
      "366.51155327703486\n",
      "92.61% correct\n",
      "373.6343840862208\n",
      "92.99% correct\n",
      "381.11557933825594\n",
      "93.22% correct\n",
      "388.46450907193906\n",
      "92.93% correct\n",
      "394.8997361084151\n",
      "90.86999999999999% correct\n",
      "401.57799145118815\n",
      "92.44% correct\n",
      "409.2112422363019\n",
      "92.31% correct\n",
      "415.9339644863759\n",
      "93.03% correct\n"
     ]
    }
   ],
   "source": [
    "OPTIMIZER = autodiff.AdamOptimizer(0.01, 0.9, 0.99)\n",
    "LAYERS = [autodiff.SimpleLayer(16, activation_type=autodiff.ActivationFunction.SIGMOID, weight_init_type=autodiff.InitializationType.NORMAL, bias_init_type=autodiff.InitializationType.ZEROES),\n",
    "            autodiff.SimpleLayer(16, activation_type=autodiff.ActivationFunction.SIGMOID, weight_init_type=autodiff.InitializationType.NORMAL, bias_init_type=autodiff.InitializationType.ZEROES),\n",
    "            autodiff.SimpleLayer(DIGITS, activation_type=autodiff.ActivationFunction.SIGMOID, weight_init_type=autodiff.InitializationType.NORMAL, bias_init_type=autodiff.InitializationType.ZEROES)]\n",
    "network: autodiff.NeuralNetwork = autodiff.NeuralNetwork((IMAGE_DIM*IMAGE_DIM,1), LAYERS, LOSS_TYPE, OPTIMIZER)\n",
    "\n",
    "network_correct_portion = run_training(network)"
   ]
  },
  {
   "cell_type": "code",
   "execution_count": 7,
   "metadata": {},
   "outputs": [
    {
     "name": "stdout",
     "output_type": "stream",
     "text": [
      "13002\n"
     ]
    }
   ],
   "source": [
    "import pickle\n",
    "\n",
    "with open(\"nn_results.pickle\", \"wb\") as file:\n",
    "    pickle.dump(network_correct_portion, file)\n",
    "\n",
    "with open(\"nn.pickle\", \"wb\") as file:\n",
    "    pickle.dump(network, file)\n",
    "\n",
    "print(network.total_parameters)"
   ]
  },
  {
   "cell_type": "code",
   "execution_count": 8,
   "metadata": {},
   "outputs": [
    {
     "name": "stdout",
     "output_type": "stream",
     "text": [
      "(28, 28) x 16\n",
      "(28, 28) x 16\n",
      "(14, 14) x 16\n",
      "(12, 12) x 16\n",
      "(4, 4) x 16\n",
      "(1, 1) x 16\n",
      "(16, 1) x 1\n",
      "(10, 1) x 1\n",
      "72.3397321772316\n",
      "92.24% correct\n",
      "85.47849297701458\n",
      "93.97% correct\n",
      "95.54620460767494\n",
      "93.32000000000001% correct\n",
      "103.89222322364719\n",
      "94.89999999999999% correct\n",
      "110.91614563158403\n",
      "94.78% correct\n",
      "117.4668631839789\n",
      "95.08% correct\n",
      "123.72612037916531\n",
      "95.54% correct\n",
      "129.57724665905457\n",
      "95.61% correct\n",
      "135.21473960061886\n",
      "95.49% correct\n",
      "140.82957377757901\n",
      "95.35% correct\n",
      "146.38710263533014\n",
      "95.78% correct\n",
      "151.4138817398948\n",
      "95.61% correct\n",
      "156.40284146408155\n",
      "95.52000000000001% correct\n",
      "161.1588738715304\n",
      "96.19% correct\n",
      "165.91486370663193\n",
      "95.99% correct\n",
      "170.43698789172907\n",
      "95.69% correct\n",
      "175.2819573559986\n",
      "95.89% correct\n",
      "180.01194183691217\n",
      "96.17999999999999% correct\n",
      "184.9376720692702\n",
      "96.03% correct\n",
      "189.42165190077023\n",
      "95.65% correct\n",
      "193.57316918360124\n",
      "95.94% correct\n",
      "198.27904787763345\n",
      "96.14% correct\n",
      "202.78925506737605\n",
      "95.8% correct\n",
      "207.18007817514535\n",
      "95.97% correct\n",
      "211.5358109929835\n",
      "95.62% correct\n",
      "215.50483997564066\n",
      "95.58% correct\n",
      "220.28961002128565\n",
      "95.43% correct\n",
      "224.82281580424427\n",
      "95.45% correct\n",
      "229.36214555578619\n",
      "96.08% correct\n",
      "233.44841149789633\n",
      "95.49% correct\n"
     ]
    }
   ],
   "source": [
    "from libraries.autodiff import ActivationFunction as af\n",
    "from libraries.autodiff import InitializationType as it\n",
    "\n",
    "IMAGE_DIM: int = 28\n",
    "IMAGE_SIZE = (IMAGE_DIM, IMAGE_DIM)\n",
    "DIGITS = 10\n",
    "\n",
    "LOSS_TYPE = autodiff.LossType.CROSS_ENTROPY\n",
    "OPTIMIZER = autodiff.AdamOptimizer(0.01, 0.9, 0.99)\n",
    "WEIGHT_DECAY_RATE = 0\n",
    "WEIGHT_DECAY_EXP = 2\n",
    "LAYERS = [autodiff.SplitLayer(16), # 28 x 28 (x16)\n",
    "          autodiff.ConvolutionLayer((5,5), (1,1), activation_type=af.SIGMOID, init_type=it.NORMAL, pre_padding=(2,2)), # 28 x 28 (x16)\n",
    "          autodiff.ConvolutionLayer((2,2), (2,2), activation_type=af.NONE, init_type=it.NORMAL, pre_padding=(0,0)), # 14 x 14 (x16)\n",
    "          autodiff.ConvolutionLayer((5,5), (1,1), activation_type=af.SIGMOID, init_type=it.NORMAL, pre_padding=(1,1)), # 12 x 12 (x16)\n",
    "          autodiff.ConvolutionLayer((3,3), (3,3), activation_type=af.SIGMOID, init_type=it.NORMAL, pre_padding=(0,0)), # 4 x 4 (x16)\n",
    "          autodiff.ConvolutionLayer((4,4), (4,4), activation_type=af.SIGMOID, init_type=it.NORMAL, pre_padding=(0,0)), # 1 x 1 (x16)\n",
    "          autodiff.MergeLayer(), # 16 x 1\n",
    "          autodiff.SimpleLayer(DIGITS, activation_type=af.SIGMOID, weight_init_type=it.NORMAL)]\n",
    "network: autodiff.NeuralNetwork = autodiff.NeuralNetwork(IMAGE_SIZE, LAYERS, LOSS_TYPE, OPTIMIZER, WEIGHT_DECAY_RATE, WEIGHT_DECAY_EXP)\n",
    "\n",
    "conv_correct_portion = run_training(network)"
   ]
  },
  {
   "cell_type": "code",
   "execution_count": 9,
   "metadata": {},
   "outputs": [
    {
     "name": "stdout",
     "output_type": "stream",
     "text": [
      "1434\n"
     ]
    }
   ],
   "source": [
    "import pickle\n",
    "\n",
    "with open(\"cnn_results.pickle\", \"wb\") as file:\n",
    "    pickle.dump(conv_correct_portion, file)\n",
    "\n",
    "with open(\"cnn.pickle\", \"wb\") as file:\n",
    "    pickle.dump(network, file)\n",
    "\n",
    "print(network.total_parameters)"
   ]
  },
  {
   "cell_type": "code",
   "execution_count": 15,
   "metadata": {},
   "outputs": [
    {
     "data": {
      "text/plain": [
       "<matplotlib.legend.Legend at 0x1e734118c10>"
      ]
     },
     "execution_count": 15,
     "metadata": {},
     "output_type": "execute_result"
    },
    {
     "data": {
      "image/png": "[encoded data removed]",
      "text/plain": [
       "<Figure size 640x480 with 1 Axes>"
      ]
     },
     "metadata": {},
     "output_type": "display_data"
    }
   ],
   "source": [
    "plt.plot(affine_correct_portion[:25], linewidth=3, label=\"Affine\")\n",
    "plt.plot(network_correct_portion[:25], linewidth=3, label=\"NN\")\n",
    "plt.plot(conv_correct_portion[:25], linewidth=3, label=\"CNN\")\n",
    "plt.xticks(fontsize=15)\n",
    "plt.yticks(fontsize=15)\n",
    "plt.xlabel('Epochs (50000 examples with batch size 10)', fontsize=15)\n",
    "plt.ylabel('Validation Correctness', fontsize=15)\n",
    "plt.legend()"
   ]
  },
  {
   "cell_type": "markdown",
   "metadata": {},
   "source": [
    "Extra visualization code for CNN layers"
   ]
  },
  {
   "cell_type": "code",
   "execution_count": null,
   "metadata": {},
   "outputs": [],
   "source": [
    "INDEX = 16*5+1\n",
    "DO_TEXT = False\n",
    "\n",
    "def plot_results(size_x, size_y, grid, do_text: True):\n",
    "\n",
    "    minimum = min(grid)\n",
    "    maximum = max(grid)\n",
    "    extreme = max(abs(minimum), abs(maximum))\n",
    "\n",
    "    results = grid.reshape(size_x, size_y)\n",
    "\n",
    "    fig, ax = plt.subplots()\n",
    "    im = ax.imshow(results, cmap='viridis', vmin=-extreme, vmax=extreme)\n",
    "    ax.set_axis_off()\n",
    "    #print(results)\n",
    "\n",
    "    if do_text:\n",
    "        for i in range(size_x):\n",
    "            for j in range(size_y):\n",
    "                text = ax.text(i, j, '%.2f'%(results[j, i]), ha=\"center\", va=\"center\", color=\"black\")\n",
    "\n",
    "vals = list(network.cost.input_nodes.keys())\n",
    "print(network.cost.input_nodes[vals[1]].size)\n",
    "\n",
    "var = network.cost.input_nodes[vals[INDEX]]\n",
    "plot_results(var.size[0], var.size[1], network.get_parameters()[var.input_start_index : var.input_start_index + var.variable_count], DO_TEXT)\n"
   ]
  }
 ],
 "metadata": {
  "kernelspec": {
   "display_name": "Python 3",
   "language": "python",
   "name": "python3"
  },
  "language_info": {
   "codemirror_mode": {
    "name": "ipython",
    "version": 3
   },
   "file_extension": ".py",
   "mimetype": "text/x-python",
   "name": "python",
   "nbconvert_exporter": "python",
   "pygments_lexer": "ipython3",
   "version": "3.11.9"
  }
 },
 "nbformat": 4,
 "nbformat_minor": 2
}
